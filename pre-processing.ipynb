{
 "cells": [
  {
   "cell_type": "code",
   "execution_count": 45,
   "metadata": {},
   "outputs": [],
   "source": [
    "from utils import save_json, read_json\n",
    "import random"
   ]
  },
  {
   "cell_type": "code",
   "execution_count": 2,
   "metadata": {},
   "outputs": [
    {
     "data": {
      "text/plain": [
       "[{'id': 0,\n",
       "  'question': 'A company is organizing a team-building event and needs to assign participants to different activities. They have a total of 100 employees. Activity A requires 5 employees a team, activity B requires 3 employees a team, and activity C requires 7 employees a team. The company has a total of 100 employees available for the event. The company has a limitation on the number of teams in activity B, which cannot exceed 20. The company wants to maximize participation teams and decides to allocate different weights to each activity: activity A has a weight of 3, activity B has a weight of 2, and activity C has a weight of 4. The objective is to maximize the total participation weighted by the assigned weights.',\n",
       "  'code': '# Import PuLP library\\nfrom pulp import *\\n\\n# Define the decision variables\\nnum_participants_A = LpVariable(\"NumParticipantsA\", lowBound=0, cat=\\'Integer\\') # number of participants in activity A\\nnum_participants_B = LpVariable(\"NumParticipantsB\", lowBound=0, upBound=20, cat=\\'Integer\\') # number of participants in activity B\\nnum_participants_C = LpVariable(\"NumParticipantsC\", lowBound=0, cat=\\'Integer\\') # number of participants in activity C\\n\\n# Define the question as a maximum or minimum problem\\nproblem = LpProblem(\"TeamBuildingEvent\", LpMaximize)\\n\\n# Define the objective function\\nobjective = 3 * num_participants_A + 2 * num_participants_B + 4 * num_participants_C\\nproblem += objective # maximize the total participation weighted by the assigned weights\\n\\n# Define the constraints\\nproblem += 5 * num_participants_A + 3 * num_participants_B + 7 * num_participants_C <= 100 # the total number of employees is 100\\n\\n# Solve the problem\\nstatus = problem.solve()\\n\\n# Output the answer\\nprint(\"## start solving\")\\nprint(\"The number of participants in activity A:\", num_participants_A.value())\\nprint(\"The number of participants in activity B:\", num_participants_B.value())\\nprint(\"The number of participants in activity C:\", num_participants_C.value())\\nprint(\"The total weighted participation:\", objective.value())\\nprint(\"## end solving\")\\n',\n",
       "  'results': {'The number of teams in activity A': '8.0',\n",
       "   'The number of teams in activity B': '20.0',\n",
       "   'The number of teams in activity C': '0.0',\n",
       "   'The total weighted participation': '64.0'}},\n",
       " {'id': 1,\n",
       "  'question': 'A company is organizing a team-building event and needs to assign participants to different activities. They have a total of 100 employees. The company has a total of 100 employees available for the event. Each participant in activity A consumes 2 units of snacks, each participant in activity B consumes 1.5 units of snacks, and each participant in activity C consumes 3 units of snacks. The company has 250 units of snacks available for the event. The company wants to maximize participation and decides to allocate different weights to each activity: activity A has a weight of 3, activity B has a weight of 2, and activity C has a weight of 4. The objective is to maximize the total participation weighted by the assigned weights.',\n",
       "  'code': '# Import PuLP library\\nfrom pulp import *\\n\\n# Define the decision variables\\nnum_participants_A = LpVariable(\"NumParticipantsA\", lowBound=0, cat=\\'Integer\\') # number of participants in activity A\\nnum_participants_B = LpVariable(\"NumParticipantsB\", lowBound=0, cat=\\'Integer\\') # number of participants in activity B\\nnum_participants_C = LpVariable(\"NumParticipantsC\", lowBound=0, cat=\\'Integer\\') # number of participants in activity C\\n\\n# Define the question as a maximum or minimum problem\\nproblem = LpProblem(\"TeamBuildingEvent\", LpMaximize)\\n\\n# Define the objective function\\nobjective = 3 * num_participants_A + 2 * num_participants_B + 4 * num_participants_C\\nproblem += objective # maximize the total participation weighted by the assigned weights\\n\\n# Define the constraints\\nproblem += 5 * num_participants_A + 3 * num_participants_B + 4 * num_participants_C <= 100 # the number of participants must be at most 100\\nproblem += 2 * num_participants_A + 1.5 * num_participants_B + 3 * num_participants_C <= 250 # the snack units consumed must be at most 250\\n\\n# Solve the problem\\nstatus = problem.solve()\\n\\n# Output the answer\\nprint(\"The number of participants in activity A:\", num_participants_A.value())\\nprint(\"The number of participants in activity B:\", num_participants_B.value())\\nprint(\"The number of participants in activity C:\", num_participants_C.value())\\nprint(\"The total participation weighted score:\", objective.value())\\n',\n",
       "  'results': {'The number of participants in activity A': '0.0',\n",
       "   'The number of participants in activity B': '0.0',\n",
       "   'The number of participants in activity C': '25.0',\n",
       "   'The total participation weighted score': '100.0'}},\n",
       " {'id': 2,\n",
       "  'question': 'A company is organizing a team-building event and needs to assign participants to different activities. They have a total of 100 employees. The company has a total of 100 employees available for the event. The company has a restriction on the minimum number of participants for activity A, which is set at 10 employees. The company wants to maximize participation and decides to allocate different weights to each activity: activity A has a weight of 3, activity B has a weight of 2, and activity C has a weight of 4. The objective is to maximize the total participation weighted by the assigned weights.',\n",
       "  'code': '# Import PuLP library\\nfrom pulp import *\\n\\n# Define the decision variables\\nnum_participants_A = LpVariable(\"NumParticipantsA\", lowBound=10, cat=\\'Integer\\') # number of participants in activity A\\nnum_participants_B = LpVariable(\"NumParticipantsB\", lowBound=0, cat=\\'Integer\\') # number of participants in activity B\\nnum_participants_C = LpVariable(\"NumParticipantsC\", lowBound=0, cat=\\'Integer\\') # number of participants in activity C\\n\\n# Define the question as a maximum or minimum problem\\nproblem = LpProblem(\"TeamBuildingEvent\", LpMaximize)\\n\\n# Define the objective function\\nobjective = 3 * num_participants_A + 2 * num_participants_B + 4 * num_participants_C\\nproblem += objective # maximize the total participation weighted by the assigned weights\\n\\n# Define the constraints\\nproblem += 5 * num_participants_A + 3 * num_participants_B + 4 * num_participants_C <= 100 # the total number of employees is 100\\n\\n# Solve the problem\\nstatus = problem.solve()\\n\\n# Output the answer\\nprint(\"The number of participants in activity A:\", num_participants_A.value())\\nprint(\"The number of participants in activity B:\", num_participants_B.value())\\nprint(\"The number of participants in activity C:\", num_participants_C.value())\\nprint(\"The total weighted participation:\", objective.value())\\n',\n",
       "  'results': {'The number of participants in activity A': '10.0',\n",
       "   'The number of participants in activity B': '0.0',\n",
       "   'The number of participants in activity C': '12.0',\n",
       "   'The total weighted participation': '78.0'}},\n",
       " {'id': 3,\n",
       "  'question': 'A company is organizing a team-building event and needs to assign participants to different activities. They have a total of 100 employees. The company has a total of 100 employees available for the event. The company wants to ensure that at least 20% of the participants are assigned to activity A. The company wants to maximize participation and decides to allocate different weights to each activity: activity A has a weight of 3, activity B has a weight of 2, and activity C has a weight of 4. The objective is to maximize the total participation weighted by the assigned weights.',\n",
       "  'code': '# Import PuLP library\\nfrom pulp import *\\n\\n# Define the decision variables\\nnum_participants_A = LpVariable(\"NumParticipantsA\", lowBound=0, cat=\\'Integer\\') # number of participants in activity A\\nnum_participants_B = LpVariable(\"NumParticipantsB\", lowBound=0, cat=\\'Integer\\') # number of participants in activity B\\nnum_participants_C = LpVariable(\"NumParticipantsC\", lowBound=0, cat=\\'Integer\\') # number of participants in activity C\\n\\n# Define the question as a maximum or minimum problem\\nproblem = LpProblem(\"TeamBuildingEvent\", LpMaximize)\\n\\n# Define the objective function\\nobjective = 3 * num_participants_A + 2 * num_participants_B + 4 * num_participants_C\\nproblem += objective # maximize the total participation weighted by the assigned weights\\n\\n# Define the constraints\\nproblem += 5 * num_participants_A + 3 * num_participants_B + 4 * num_participants_C <= 100 # the total number of employees is 100\\nproblem += num_participants_A >= 0.2 * (num_participants_A + num_participants_B + num_participants_C) # at least 20% of the participants are assigned to activity A\\n\\n# Solve the problem\\nstatus = problem.solve()\\n\\n# Output the answer\\nprint(\"The number of participants in activity A:\", num_participants_A.value())\\nprint(\"The number of participants in activity B:\", num_participants_B.value())\\nprint(\"The number of participants in activity C:\", num_participants_C.value())\\nprint(\"The total participation weighted score:\", objective.value())\\n',\n",
       "  'results': {'The number of participants in activity A': '5.0',\n",
       "   'The number of participants in activity B': '1.0',\n",
       "   'The number of participants in activity C': '18.0',\n",
       "   'The total participation weighted score': '89.0'}},\n",
       " {'id': 4,\n",
       "  'question': 'A company is organizing a team-building event and needs to assign participants to different activities. They have a total of 100 employees. The company has a limit of 50 participants for activity A. The company has a limit of 30 participants for activity B. The company wants to maximize participation and decides to allocate different weights to each activity: activity A has a weight of 3, activity B has a weight of 2, and activity C has a weight of 4. The objective is to maximize the total participation weighted by the assigned weights.',\n",
       "  'code': '# Import PuLP library\\nfrom pulp import *\\n\\n# Define the decision variables\\nnum_participants_A = LpVariable(\"NumParticipantsA\", lowBound=0, cat=\\'Integer\\') # number of participants in activity A\\nnum_participants_B = LpVariable(\"NumParticipantsB\", lowBound=0, cat=\\'Integer\\') # number of participants in activity B\\nnum_participants_C = LpVariable(\"NumParticipantsC\", lowBound=0, cat=\\'Integer\\') # number of participants in activity C\\n\\n# Define the question as a maximum or minimum problem\\nproblem = LpProblem(\"TeamBuildingEvent\", LpMaximize)\\n\\n# Define the objective function\\nobjective = 3 * num_participants_A + 2 * num_participants_B + 4 * num_participants_C\\nproblem += objective # maximize the total participation weighted by the assigned weights\\n\\n# Define the constraints\\nproblem += num_participants_A <= 50 # limit for activity A\\nproblem += num_participants_B <= 30 # limit for activity B\\nproblem += num_participants_A + num_participants_B + num_participants_C == 100 # total number of employees\\n\\n# Solve the problem\\nstatus = problem.solve()\\n\\n# Output the answer\\nprint(\"The number of participants in activity A:\", num_participants_A.value())\\nprint(\"The number of participants in activity B:\", num_participants_B.value())\\nprint(\"The number of participants in activity C:\", num_participants_C.value())\\nprint(\"The total participation weighted score:\", objective.value())\\n',\n",
       "  'results': {'The number of participants in activity A': '0.0',\n",
       "   'The number of participants in activity B': '0.0',\n",
       "   'The number of participants in activity C': '100.0',\n",
       "   'The total participation weighted score': '400.0'}}]"
      ]
     },
     "execution_count": 2,
     "metadata": {},
     "output_type": "execute_result"
    }
   ],
   "source": [
    "data = read_json(\"./task3_public_data/task3_train_public.json\")\n",
    "data[:5]"
   ]
  },
  {
   "cell_type": "code",
   "execution_count": 14,
   "metadata": {},
   "outputs": [
    {
     "data": {
      "text/plain": [
       "{'id': 0,\n",
       " 'question': 'A company is organizing a team-building event and needs to assign participants to different activities. They have a total of 100 employees. Activity A requires 5 employees a team, activity B requires 3 employees a team, and activity C requires 7 employees a team. The company has a total of 100 employees available for the event. The company has a limitation on the number of teams in activity B, which cannot exceed 20. The company wants to maximize participation teams and decides to allocate different weights to each activity: activity A has a weight of 3, activity B has a weight of 2, and activity C has a weight of 4. The objective is to maximize the total participation weighted by the assigned weights.',\n",
       " 'code': '# Import PuLP library\\nfrom pulp import *\\n\\n# Define the decision variables\\nnum_participants_A = LpVariable(\"NumParticipantsA\", lowBound=0, cat=\\'Integer\\') # number of participants in activity A\\nnum_participants_B = LpVariable(\"NumParticipantsB\", lowBound=0, upBound=20, cat=\\'Integer\\') # number of participants in activity B\\nnum_participants_C = LpVariable(\"NumParticipantsC\", lowBound=0, cat=\\'Integer\\') # number of participants in activity C\\n\\n# Define the question as a maximum or minimum problem\\nproblem = LpProblem(\"TeamBuildingEvent\", LpMaximize)\\n\\n# Define the objective function\\nobjective = 3 * num_participants_A + 2 * num_participants_B + 4 * num_participants_C\\nproblem += objective # maximize the total participation weighted by the assigned weights\\n\\n# Define the constraints\\nproblem += 5 * num_participants_A + 3 * num_participants_B + 7 * num_participants_C <= 100 # the total number of employees is 100\\n\\n# Solve the problem\\nstatus = problem.solve()\\n\\n# Output the answer\\nprint(\"## start solving\")\\nprint(\"The number of participants in activity A:\", num_participants_A.value())\\nprint(\"The number of participants in activity B:\", num_participants_B.value())\\nprint(\"The number of participants in activity C:\", num_participants_C.value())\\nprint(\"The total weighted participation:\", objective.value())\\nprint(\"## end solving\")\\n',\n",
       " 'results': {'The number of teams in activity A': '8.0',\n",
       "  'The number of teams in activity B': '20.0',\n",
       "  'The number of teams in activity C': '0.0',\n",
       "  'The total weighted participation': '64.0'}}"
      ]
     },
     "execution_count": 14,
     "metadata": {},
     "output_type": "execute_result"
    }
   ],
   "source": [
    "dat = data[0]\n",
    "dat"
   ]
  },
  {
   "cell_type": "code",
   "execution_count": 15,
   "metadata": {},
   "outputs": [
    {
     "name": "stdout",
     "output_type": "stream",
     "text": [
      "# Import PuLP library\n",
      "from pulp import *\n",
      "\n",
      "# Define the decision variables\n",
      "num_participants_A = LpVariable(\"NumParticipantsA\", lowBound=0, cat='Integer') # number of participants in activity A\n",
      "num_participants_B = LpVariable(\"NumParticipantsB\", lowBound=0, upBound=20, cat='Integer') # number of participants in activity B\n",
      "num_participants_C = LpVariable(\"NumParticipantsC\", lowBound=0, cat='Integer') # number of participants in activity C\n",
      "\n",
      "# Define the question as a maximum or minimum problem\n",
      "problem = LpProblem(\"TeamBuildingEvent\", LpMaximize)\n",
      "\n",
      "# Define the objective function\n",
      "objective = 3 * num_participants_A + 2 * num_participants_B + 4 * num_participants_C\n",
      "problem += objective # maximize the total participation weighted by the assigned weights\n",
      "\n",
      "# Define the constraints\n",
      "problem += 5 * num_participants_A + 3 * num_participants_B + 7 * num_participants_C <= 100 # the total number of employees is 100\n",
      "\n",
      "# Solve the problem\n",
      "status = problem.solve()\n",
      "\n",
      "# Output the answer\n",
      "print(\"## start solving\")\n",
      "print(\"The number of participants in activity A:\", num_participants_A.value())\n",
      "print(\"The number of participants in activity B:\", num_participants_B.value())\n",
      "print(\"The number of participants in activity C:\", num_participants_C.value())\n",
      "print(\"The total weighted participation:\", objective.value())\n",
      "print(\"## end solving\")\n",
      "\n"
     ]
    }
   ],
   "source": [
    "code = dat[\"code\"]\n",
    "print(code)"
   ]
  },
  {
   "cell_type": "code",
   "execution_count": 19,
   "metadata": {},
   "outputs": [
    {
     "data": {
      "text/plain": [
       "'# Import PuLP library\\nfrom pulp import *\\n\\n# Define the decision variables\\nnum_participants_A = LpVariable(\"NumParticipantsA\", lowBound=0, cat=\\'Integer\\') # number of participants in activity A\\nnum_participants_B = LpVariable(\"NumParticipantsB\", lowBound=0, upBound=20, cat=\\'Integer\\') # number of participants in activity B\\nnum_participants_C = LpVariable(\"NumParticipantsC\", lowBound=0, cat=\\'Integer\\') # number of participants in activity C\\n\\n# Define the question as a maximum or minimum problem\\nproblem = LpProblem(\"TeamBuildingEvent\", LpMaximize)\\n\\n# Define the objective function\\nobjective = 3 * num_participants_A + 2 * num_participants_B + 4 * num_participants_C\\nproblem += objective # maximize the total participation weighted by the assigned weights\\n\\n# Define the constraints\\nproblem += 5 * num_participants_A + 3 * num_participants_B + 7 * num_participants_C <= 100 # the total number of employees is 100\\n\\n# Solve the problem\\nstatus = problem.solve()\\n\\n# Output the answer\\nprint(\"## start solving\")\\nprint(\"The number of participants in activity A:\", num_participants_A.value())\\nprint(\"The number of participants in activity B:\", num_participants_B.value())\\nprint(\"The number of participants in activity C:\", num_participants_C.value())\\nprint(\"The total weighted participation:\", objective.value())\\nprint(\"## end solving\")\\n'"
      ]
     },
     "execution_count": 19,
     "metadata": {},
     "output_type": "execute_result"
    }
   ],
   "source": [
    "code"
   ]
  },
  {
   "cell_type": "code",
   "execution_count": 21,
   "metadata": {},
   "outputs": [
    {
     "data": {
      "text/plain": [
       "978"
      ]
     },
     "execution_count": 21,
     "metadata": {},
     "output_type": "execute_result"
    }
   ],
   "source": [
    "code.find(r'print(\"## start solving\")')"
   ]
  },
  {
   "cell_type": "code",
   "execution_count": 22,
   "metadata": {},
   "outputs": [
    {
     "name": "stdout",
     "output_type": "stream",
     "text": [
      "1\n",
      "999\n"
     ]
    }
   ],
   "source": [
    "cnt = 0\n",
    "for dat in data:\n",
    "    code = dat[\"code\"]\n",
    "    if code.find(r'print(\"## start solving\")') != -1:\n",
    "        cnt += 1\n",
    "print(cnt)\n",
    "print(len(data))"
   ]
  },
  {
   "cell_type": "code",
   "execution_count": 23,
   "metadata": {},
   "outputs": [
    {
     "name": "stdout",
     "output_type": "stream",
     "text": [
      "# Import PuLP library\n",
      "from pulp import *\n",
      "\n",
      "# Define the decision variables\n",
      "num_participants_A = LpVariable(\"NumParticipantsA\", lowBound=0, cat='Integer') # number of participants in activity A\n",
      "num_participants_B = LpVariable(\"NumParticipantsB\", lowBound=0, cat='Integer') # number of participants in activity B\n",
      "num_participants_C = LpVariable(\"NumParticipantsC\", lowBound=0, cat='Integer') # number of participants in activity C\n",
      "\n",
      "# Define the question as a maximum or minimum problem\n",
      "problem = LpProblem(\"TeamBuildingEvent\", LpMaximize)\n",
      "\n",
      "# Define the objective function\n",
      "objective = 3 * num_participants_A + 2 * num_participants_B + 4 * num_participants_C\n",
      "problem += objective # maximize the total participation weighted by the assigned weights\n",
      "\n",
      "# Define the constraints\n",
      "problem += 5 * num_participants_A + 3 * num_participants_B + 4 * num_participants_C <= 100 # the number of participants must be at most 100\n",
      "problem += 2 * num_participants_A + 1.5 * num_participants_B + 3 * num_participants_C <= 250 # the snack units consumed must be at most 250\n",
      "\n",
      "# Solve the problem\n",
      "status = problem.solve()\n",
      "\n",
      "# Output the answer\n",
      "print(\"The number of participants in activity A:\", num_participants_A.value())\n",
      "print(\"The number of participants in activity B:\", num_participants_B.value())\n",
      "print(\"The number of participants in activity C:\", num_participants_C.value())\n",
      "print(\"The total participation weighted score:\", objective.value())\n",
      "\n"
     ]
    }
   ],
   "source": [
    "dat = data[1]\n",
    "code = dat[\"code\"]\n",
    "print(code)"
   ]
  },
  {
   "cell_type": "code",
   "execution_count": 28,
   "metadata": {},
   "outputs": [],
   "source": [
    "def insert_string(origin: str, added_str: str, idx: int):\n",
    "    return origin[:idx] + added_str + origin[idx:]"
   ]
  },
  {
   "cell_type": "code",
   "execution_count": 36,
   "metadata": {},
   "outputs": [],
   "source": [
    "def add_indicator(code: str):\n",
    "    pattern = \"# Output the answer\"\n",
    "    idx = code.find(pattern)\n",
    "    length = len(pattern)\n",
    "    code[idx:idx+length+1]\n",
    "    start_indicator = insert_string(code, 'print(\"## start solving\")\\n', idx+length+1)\n",
    "    end_indicator = insert_string(start_indicator, '\\nprint(\"## end solving\")\\n', -1)\n",
    "    return end_indicator"
   ]
  },
  {
   "cell_type": "code",
   "execution_count": 37,
   "metadata": {},
   "outputs": [
    {
     "name": "stdout",
     "output_type": "stream",
     "text": [
      "# Import PuLP library\n",
      "from pulp import *\n",
      "\n",
      "# Define the decision variables\n",
      "num_participants_A = LpVariable(\"NumParticipantsA\", lowBound=0, cat='Integer') # number of participants in activity A\n",
      "num_participants_B = LpVariable(\"NumParticipantsB\", lowBound=0, cat='Integer') # number of participants in activity B\n",
      "num_participants_C = LpVariable(\"NumParticipantsC\", lowBound=0, cat='Integer') # number of participants in activity C\n",
      "\n",
      "# Define the question as a maximum or minimum problem\n",
      "problem = LpProblem(\"TeamBuildingEvent\", LpMaximize)\n",
      "\n",
      "# Define the objective function\n",
      "objective = 3 * num_participants_A + 2 * num_participants_B + 4 * num_participants_C\n",
      "problem += objective # maximize the total participation weighted by the assigned weights\n",
      "\n",
      "# Define the constraints\n",
      "problem += num_participants_A <= 50 # limit for activity A\n",
      "problem += num_participants_B <= 30 # limit for activity B\n",
      "problem += num_participants_A + num_participants_B + num_participants_C == 100 # total number of employees\n",
      "\n",
      "# Solve the problem\n",
      "status = problem.solve()\n",
      "\n",
      "# Output the answer\n",
      "print(\"## start solving\")\n",
      "print(\"The number of participants in activity A:\", num_participants_A.value())\n",
      "print(\"The number of participants in activity B:\", num_participants_B.value())\n",
      "print(\"The number of participants in activity C:\", num_participants_C.value())\n",
      "print(\"The total participation weighted score:\", objective.value())\n",
      "print(\"## end solving\")\n",
      "\n",
      "\n"
     ]
    }
   ],
   "source": [
    "print(add_indicator(data[4][\"code\"]))"
   ]
  },
  {
   "cell_type": "code",
   "execution_count": 38,
   "metadata": {},
   "outputs": [
    {
     "name": "stdout",
     "output_type": "stream",
     "text": [
      "# Import PuLP library\n",
      "from pulp import *\n",
      "\n",
      "# Define the decision variables\n",
      "num_participants_A = LpVariable(\"NumParticipantsA\", lowBound=0, cat='Integer') # number of participants in activity A\n",
      "num_participants_B = LpVariable(\"NumParticipantsB\", lowBound=0, cat='Integer') # number of participants in activity B\n",
      "num_participants_C = LpVariable(\"NumParticipantsC\", lowBound=0, cat='Integer') # number of participants in activity C\n",
      "\n",
      "# Define the question as a maximum or minimum problem\n",
      "problem = LpProblem(\"TeamBuildingEvent\", LpMaximize)\n",
      "\n",
      "# Define the objective function\n",
      "objective = 3 * num_participants_A + 2 * num_participants_B + 4 * num_participants_C\n",
      "problem += objective # maximize the total participation weighted by the assigned weights\n",
      "\n",
      "# Define the constraints\n",
      "problem += num_participants_A <= 50 # limit for activity A\n",
      "problem += num_participants_B <= 30 # limit for activity B\n",
      "problem += num_participants_A + num_participants_B + num_participants_C == 100 # total number of employees\n",
      "\n",
      "# Solve the problem\n",
      "status = problem.solve()\n",
      "\n",
      "# Output the answer\n",
      "print(\"## start solving\")\n",
      "print(\"The number of participants in activity A:\", num_participants_A.value())\n",
      "print(\"The number of participants in activity B:\", num_participants_B.value())\n",
      "print(\"The number of participants in activity C:\", num_participants_C.value())\n",
      "print(\"The total participation weighted score:\", objective.value())\n",
      "print(\"## end solving\")\n",
      "\n",
      "\n"
     ]
    }
   ],
   "source": [
    "cnt = 0\n",
    "for dat in data:\n",
    "    code = dat[\"code\"]\n",
    "    if code.find(r'print(\"## start solving\")') == -1:\n",
    "        dat[\"code\"] = add_indicator(dat[\"code\"])\n",
    "\n",
    "print(data[4][\"code\"])"
   ]
  },
  {
   "cell_type": "code",
   "execution_count": 47,
   "metadata": {},
   "outputs": [
    {
     "data": {
      "text/plain": [
       "[{'question': 'A company is organizing a team-building event and needs to assign participants to different activities. They have a total of 100 employees. Activity A requires 5 employees a team, activity B requires 3 employees a team, and activity C requires 7 employees a team. The company has a total of 100 employees available for the event. The company has a limitation on the number of teams in activity B, which cannot exceed 20. The company wants to maximize participation teams and decides to allocate different weights to each activity: activity A has a weight of 3, activity B has a weight of 2, and activity C has a weight of 4. The objective is to maximize the total participation weighted by the assigned weights.',\n",
       "  'formatted_answers': 'The number of teams in activity A: ?\\nThe number of teams in activity B: ?\\nThe number of teams in activity C: ?\\nThe total weighted participation: ?',\n",
       "  'output': '# Import PuLP library\\nfrom pulp import *\\n\\n# Define the decision variables\\nnum_participants_A = LpVariable(\"NumParticipantsA\", lowBound=0, cat=\\'Integer\\') # number of participants in activity A\\nnum_participants_B = LpVariable(\"NumParticipantsB\", lowBound=0, upBound=20, cat=\\'Integer\\') # number of participants in activity B\\nnum_participants_C = LpVariable(\"NumParticipantsC\", lowBound=0, cat=\\'Integer\\') # number of participants in activity C\\n\\n# Define the question as a maximum or minimum problem\\nproblem = LpProblem(\"TeamBuildingEvent\", LpMaximize)\\n\\n# Define the objective function\\nobjective = 3 * num_participants_A + 2 * num_participants_B + 4 * num_participants_C\\nproblem += objective # maximize the total participation weighted by the assigned weights\\n\\n# Define the constraints\\nproblem += 5 * num_participants_A + 3 * num_participants_B + 7 * num_participants_C <= 100 # the total number of employees is 100\\n\\n# Solve the problem\\nstatus = problem.solve()\\n\\n# Output the answer\\nprint(\"## start solving\")\\nprint(\"The number of participants in activity A:\", num_participants_A.value())\\nprint(\"The number of participants in activity B:\", num_participants_B.value())\\nprint(\"The number of participants in activity C:\", num_participants_C.value())\\nprint(\"The total weighted participation:\", objective.value())\\nprint(\"## end solving\")\\n'},\n",
       " {'question': 'A company is organizing a team-building event and needs to assign participants to different activities. They have a total of 100 employees. The company has a total of 100 employees available for the event. Each participant in activity A consumes 2 units of snacks, each participant in activity B consumes 1.5 units of snacks, and each participant in activity C consumes 3 units of snacks. The company has 250 units of snacks available for the event. The company wants to maximize participation and decides to allocate different weights to each activity: activity A has a weight of 3, activity B has a weight of 2, and activity C has a weight of 4. The objective is to maximize the total participation weighted by the assigned weights.',\n",
       "  'formatted_answers': 'The number of participants in activity A: ?\\nThe number of participants in activity B: ?\\nThe number of participants in activity C: ?\\nThe total participation weighted score: ?',\n",
       "  'output': '# Import PuLP library\\nfrom pulp import *\\n\\n# Define the decision variables\\nnum_participants_A = LpVariable(\"NumParticipantsA\", lowBound=0, cat=\\'Integer\\') # number of participants in activity A\\nnum_participants_B = LpVariable(\"NumParticipantsB\", lowBound=0, cat=\\'Integer\\') # number of participants in activity B\\nnum_participants_C = LpVariable(\"NumParticipantsC\", lowBound=0, cat=\\'Integer\\') # number of participants in activity C\\n\\n# Define the question as a maximum or minimum problem\\nproblem = LpProblem(\"TeamBuildingEvent\", LpMaximize)\\n\\n# Define the objective function\\nobjective = 3 * num_participants_A + 2 * num_participants_B + 4 * num_participants_C\\nproblem += objective # maximize the total participation weighted by the assigned weights\\n\\n# Define the constraints\\nproblem += 5 * num_participants_A + 3 * num_participants_B + 4 * num_participants_C <= 100 # the number of participants must be at most 100\\nproblem += 2 * num_participants_A + 1.5 * num_participants_B + 3 * num_participants_C <= 250 # the snack units consumed must be at most 250\\n\\n# Solve the problem\\nstatus = problem.solve()\\n\\n# Output the answer\\nprint(\"## start solving\")\\nprint(\"The number of participants in activity A:\", num_participants_A.value())\\nprint(\"The number of participants in activity B:\", num_participants_B.value())\\nprint(\"The number of participants in activity C:\", num_participants_C.value())\\nprint(\"The total participation weighted score:\", objective.value())\\nprint(\"## end solving\")\\n\\n'},\n",
       " {'question': 'A company is organizing a team-building event and needs to assign participants to different activities. They have a total of 100 employees. The company has a total of 100 employees available for the event. The company has a restriction on the minimum number of participants for activity A, which is set at 10 employees. The company wants to maximize participation and decides to allocate different weights to each activity: activity A has a weight of 3, activity B has a weight of 2, and activity C has a weight of 4. The objective is to maximize the total participation weighted by the assigned weights.',\n",
       "  'formatted_answers': 'The number of participants in activity A: ?\\nThe number of participants in activity B: ?\\nThe number of participants in activity C: ?\\nThe total weighted participation: ?',\n",
       "  'output': '# Import PuLP library\\nfrom pulp import *\\n\\n# Define the decision variables\\nnum_participants_A = LpVariable(\"NumParticipantsA\", lowBound=10, cat=\\'Integer\\') # number of participants in activity A\\nnum_participants_B = LpVariable(\"NumParticipantsB\", lowBound=0, cat=\\'Integer\\') # number of participants in activity B\\nnum_participants_C = LpVariable(\"NumParticipantsC\", lowBound=0, cat=\\'Integer\\') # number of participants in activity C\\n\\n# Define the question as a maximum or minimum problem\\nproblem = LpProblem(\"TeamBuildingEvent\", LpMaximize)\\n\\n# Define the objective function\\nobjective = 3 * num_participants_A + 2 * num_participants_B + 4 * num_participants_C\\nproblem += objective # maximize the total participation weighted by the assigned weights\\n\\n# Define the constraints\\nproblem += 5 * num_participants_A + 3 * num_participants_B + 4 * num_participants_C <= 100 # the total number of employees is 100\\n\\n# Solve the problem\\nstatus = problem.solve()\\n\\n# Output the answer\\nprint(\"## start solving\")\\nprint(\"The number of participants in activity A:\", num_participants_A.value())\\nprint(\"The number of participants in activity B:\", num_participants_B.value())\\nprint(\"The number of participants in activity C:\", num_participants_C.value())\\nprint(\"The total weighted participation:\", objective.value())\\nprint(\"## end solving\")\\n\\n'},\n",
       " {'question': 'A company is organizing a team-building event and needs to assign participants to different activities. They have a total of 100 employees. The company has a total of 100 employees available for the event. The company wants to ensure that at least 20% of the participants are assigned to activity A. The company wants to maximize participation and decides to allocate different weights to each activity: activity A has a weight of 3, activity B has a weight of 2, and activity C has a weight of 4. The objective is to maximize the total participation weighted by the assigned weights.',\n",
       "  'formatted_answers': 'The number of participants in activity A: ?\\nThe number of participants in activity B: ?\\nThe number of participants in activity C: ?\\nThe total participation weighted score: ?',\n",
       "  'output': '# Import PuLP library\\nfrom pulp import *\\n\\n# Define the decision variables\\nnum_participants_A = LpVariable(\"NumParticipantsA\", lowBound=0, cat=\\'Integer\\') # number of participants in activity A\\nnum_participants_B = LpVariable(\"NumParticipantsB\", lowBound=0, cat=\\'Integer\\') # number of participants in activity B\\nnum_participants_C = LpVariable(\"NumParticipantsC\", lowBound=0, cat=\\'Integer\\') # number of participants in activity C\\n\\n# Define the question as a maximum or minimum problem\\nproblem = LpProblem(\"TeamBuildingEvent\", LpMaximize)\\n\\n# Define the objective function\\nobjective = 3 * num_participants_A + 2 * num_participants_B + 4 * num_participants_C\\nproblem += objective # maximize the total participation weighted by the assigned weights\\n\\n# Define the constraints\\nproblem += 5 * num_participants_A + 3 * num_participants_B + 4 * num_participants_C <= 100 # the total number of employees is 100\\nproblem += num_participants_A >= 0.2 * (num_participants_A + num_participants_B + num_participants_C) # at least 20% of the participants are assigned to activity A\\n\\n# Solve the problem\\nstatus = problem.solve()\\n\\n# Output the answer\\nprint(\"## start solving\")\\nprint(\"The number of participants in activity A:\", num_participants_A.value())\\nprint(\"The number of participants in activity B:\", num_participants_B.value())\\nprint(\"The number of participants in activity C:\", num_participants_C.value())\\nprint(\"The total participation weighted score:\", objective.value())\\nprint(\"## end solving\")\\n\\n'},\n",
       " {'question': 'A company is organizing a team-building event and needs to assign participants to different activities. They have a total of 100 employees. The company has a limit of 50 participants for activity A. The company has a limit of 30 participants for activity B. The company wants to maximize participation and decides to allocate different weights to each activity: activity A has a weight of 3, activity B has a weight of 2, and activity C has a weight of 4. The objective is to maximize the total participation weighted by the assigned weights.',\n",
       "  'formatted_answers': 'The number of participants in activity A: ?\\nThe number of participants in activity B: ?\\nThe number of participants in activity C: ?\\nThe total participation weighted score: ?',\n",
       "  'output': '# Import PuLP library\\nfrom pulp import *\\n\\n# Define the decision variables\\nnum_participants_A = LpVariable(\"NumParticipantsA\", lowBound=0, cat=\\'Integer\\') # number of participants in activity A\\nnum_participants_B = LpVariable(\"NumParticipantsB\", lowBound=0, cat=\\'Integer\\') # number of participants in activity B\\nnum_participants_C = LpVariable(\"NumParticipantsC\", lowBound=0, cat=\\'Integer\\') # number of participants in activity C\\n\\n# Define the question as a maximum or minimum problem\\nproblem = LpProblem(\"TeamBuildingEvent\", LpMaximize)\\n\\n# Define the objective function\\nobjective = 3 * num_participants_A + 2 * num_participants_B + 4 * num_participants_C\\nproblem += objective # maximize the total participation weighted by the assigned weights\\n\\n# Define the constraints\\nproblem += num_participants_A <= 50 # limit for activity A\\nproblem += num_participants_B <= 30 # limit for activity B\\nproblem += num_participants_A + num_participants_B + num_participants_C == 100 # total number of employees\\n\\n# Solve the problem\\nstatus = problem.solve()\\n\\n# Output the answer\\nprint(\"## start solving\")\\nprint(\"The number of participants in activity A:\", num_participants_A.value())\\nprint(\"The number of participants in activity B:\", num_participants_B.value())\\nprint(\"The number of participants in activity C:\", num_participants_C.value())\\nprint(\"The total participation weighted score:\", objective.value())\\nprint(\"## end solving\")\\n\\n'}]"
      ]
     },
     "execution_count": 47,
     "metadata": {},
     "output_type": "execute_result"
    }
   ],
   "source": [
    "formatted_data = []\n",
    "for task in data:\n",
    "    question = task[\"question\"]\n",
    "    answers = list(task[\"results\"].keys())\n",
    "    formatted_answers = '\\n'.join(list(map(lambda s: s + \": ?\", answers)))\n",
    "\n",
    "    formatted_data.append({\n",
    "        \"question\": question,\n",
    "        \"formatted_answers\": formatted_answers,\n",
    "        \"output\": task[\"code\"]\n",
    "    })\n",
    "\n",
    "formatted_data[:5]"
   ]
  },
  {
   "cell_type": "code",
   "execution_count": 48,
   "metadata": {},
   "outputs": [
    {
     "data": {
      "text/plain": [
       "999"
      ]
     },
     "execution_count": 48,
     "metadata": {},
     "output_type": "execute_result"
    }
   ],
   "source": [
    "number_of_data = len(formatted_data)\n",
    "number_of_data"
   ]
  },
  {
   "cell_type": "code",
   "execution_count": 49,
   "metadata": {},
   "outputs": [
    {
     "name": "stdout",
     "output_type": "stream",
     "text": [
      "#Train data: 899\n",
      "#Validation data: 100\n"
     ]
    }
   ],
   "source": [
    "split = 0.9\n",
    "\n",
    "number_of_train_data = int(number_of_data * split)\n",
    "number_of_valid_data = number_of_data - number_of_train_data\n",
    "print(\"#Train data:\", number_of_train_data)\n",
    "print(\"#Validation data:\", number_of_valid_data)"
   ]
  },
  {
   "cell_type": "code",
   "execution_count": 50,
   "metadata": {},
   "outputs": [],
   "source": [
    "save_json(\"./task3_public_data/formatted_data/all.json\", formatted_data)\n",
    "random.shuffle(formatted_data)\n",
    "save_json(\"./task3_public_data/formatted_data/train.json\", formatted_data[:number_of_train_data])\n",
    "save_json(\"./task3_public_data/formatted_data/valid.json\", formatted_data[number_of_train_data:])"
   ]
  },
  {
   "cell_type": "code",
   "execution_count": null,
   "metadata": {},
   "outputs": [],
   "source": []
  }
 ],
 "metadata": {
  "kernelspec": {
   "display_name": "aimo",
   "language": "python",
   "name": "python3"
  },
  "language_info": {
   "codemirror_mode": {
    "name": "ipython",
    "version": 3
   },
   "file_extension": ".py",
   "mimetype": "text/x-python",
   "name": "python",
   "nbconvert_exporter": "python",
   "pygments_lexer": "ipython3",
   "version": "3.10.14"
  }
 },
 "nbformat": 4,
 "nbformat_minor": 2
}
